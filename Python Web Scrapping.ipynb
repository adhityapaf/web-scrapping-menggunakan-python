{
 "cells": [
  {
   "cell_type": "markdown",
   "metadata": {},
   "source": [
    "# Web Scrapping menggunakan Python"
   ]
  },
  {
   "cell_type": "markdown",
   "metadata": {},
   "source": [
    "## Inisialisasi URL Lib"
   ]
  },
  {
   "cell_type": "code",
   "execution_count": 1,
   "metadata": {},
   "outputs": [
    {
     "name": "stdout",
     "output_type": "stream",
     "text": [
      "<class 'bytes'>\n",
      "b'!doctype html>\\n<html lang=\"id\">\\n    <head>\\n        <meta charset=\"utf-8\">\\n        \\n        <link rel=\"alternate\" hreflang=\"id-id\" href=\"https://www.olx.co.id/id-id/items/q-iphone\">\\n        <title data-rh=\"true\">Iphone di Indonesia - OLX Murah Dengan Harga Terbaik - OLX.co.id</title>\\n        <meta data-rh=\"true\" name=\"description\" content=\"Temukan Iphone di Indonesia dapatkan hanya di OLX.co.id. Jutaan iklan Iphone terbaru ditayangkan setiap harinya di OLX Murah dengan harga terbaik.\"/>\\n        <link data-rh=\"true\" rel=\"amphtml\" href=\"https://www.olx.co.id/amp/items/q-iphone\"/><link data-rh=\"true\" rel=\"next\" href=\"https://www.olx.co.id/items/q-iphone?page=1\"/><link data-rh=\"true\" rel=\"canonical\" href=\"https://www.olx.co.id/items/q-iphone\"/>\\n        <meta http-equiv=\"Content-Language\" content=\"id\">\\n        <meta http-equiv=\"X-UA-Compatible\" content=\"IE=edge,chrome=1\">\\n        <meta http-equiv=\"cleartype\" content=\"on\">\\n        <meta name=\"HandheldFriendly\" content=\"True\">\\n        <meta n'\n"
     ]
    }
   ],
   "source": [
    "from urllib.request import urlopen\n",
    "keyword = \"iphone\"\n",
    "html = urlopen(\"https://www.olx.co.id/items/q-\"+keyword).read()\n",
    "print(type(html))\n",
    "print(html[1:1000])"
   ]
  },
  {
   "cell_type": "markdown",
   "metadata": {},
   "source": [
    "## Memanggil BeautifulSoup"
   ]
  },
  {
   "cell_type": "code",
   "execution_count": 2,
   "metadata": {},
   "outputs": [
    {
     "name": "stdout",
     "output_type": "stream",
     "text": [
      "<class 'bs4.BeautifulSoup'>\n",
      "!DOCTYPE html>\n",
      "<html lang=\"id\">\n",
      " <head>\n",
      "  <meta charset=\"utf-8\"/>\n",
      "  <link href=\"https://www.olx.co.id/id-id/items/q-iphone\" hreflang=\"id-id\" rel=\"alternate\"/>\n",
      "  <title data-rh=\"true\">\n",
      "   Iphone di Indonesia - OLX Murah Dengan Harga Terbaik - OLX.co.id\n",
      "  </title>\n",
      "  <meta content=\"Temukan Iphone di Indonesia dapatkan hanya di OLX.co.id. Jutaan iklan Iphone terbaru ditayangkan setiap harinya di OLX Murah dengan harga terbaik.\" data-rh=\"true\" name=\"description\"/>\n",
      "  <link data-rh=\"true\" href=\"https://www.olx.co.id/amp/items/q-iphone\" rel=\"amphtml\"/>\n",
      "  <link data-rh=\"true\" href=\"https://www.olx.co.id/items/q-iphone?page=1\" rel=\"next\"/>\n",
      "  <link data-rh=\"true\" href=\"https://www.olx.co.id/items/q-iphone\" rel=\"canonical\"/>\n",
      "  <meta content=\"id\" http-equiv=\"Content-Language\"/>\n",
      "  <meta content=\"IE=edge,chrome=1\" http-equiv=\"X-UA-Compatible\"/>\n",
      "  <meta content=\"on\" http-equiv=\"cleartype\"/>\n",
      "  <meta content=\"True\" name=\"HandheldFriendly\"/>\n",
      "  <meta content=\"320\" name=\"MobileOptimized\"/>\n",
      "  <meta content\n"
     ]
    }
   ],
   "source": [
    "from bs4 import BeautifulSoup\n",
    "soup = BeautifulSoup(html, \"lxml\")\n",
    "print(type(soup))\n",
    "print(soup.prettify()[1:1000])"
   ]
  },
  {
   "cell_type": "markdown",
   "metadata": {},
   "source": [
    "## Menelusuri Setiap Tag `<li>` dengan class `ERI5N`"
   ]
  },
  {
   "cell_type": "code",
   "execution_count": 3,
   "metadata": {},
   "outputs": [
    {
     "name": "stdout",
     "output_type": "stream",
     "text": [
      "[<li class=\"EIR5N\" data-aut-id=\"itemBox\"><a class=\"fhlkh\" href=\"/item/beli-iphone-11-pro-max-xs-samsung-galaxy-note-20-s20-plus-ultra-fold-2-iid-802725527\"><figure class=\"_2grx4\" data-aut-id=\"itemImage\"><div class=\"_1czk1\"><div class=\"_1VzGN _1VX6L\"></div></div><noscript><img alt=\"Beli iphone 11 pro max xs samsung galaxy note 20 s20 plus ultra fold 2\" class=\"_1N079\" sizes=\"(min-width: 1280px) 15vw, (min-width: 1024px) 20vw, (min-width: 960px) 25vw, (min-width: 540px) 25vw, (min-width: 320px) 30vw, 35vw\" src=\"https://apollo-singapore.akamaized.net:443/v1/files/3sh95ti6u0fb3-ID/image;s=272x0\" srcset=\"https://apollo-singapore.akamaized.net:443/v1/files/3sh95ti6u0fb3-ID/image;s=100x200;q=60 100w,\n",
      "                    https://apollo-singapore.akamaized.net:443/v1/files/3sh95ti6u0fb3-ID/image;s=200x400;q=60 200w,\n",
      "                    https://apollo-singapore.akamaized.net:443/v1/files/3sh95ti6u0fb3-ID/image;s=300x600;q=60 300w,\n",
      "                    https://apollo-singapore.akamaized.net:443/v1/files/3sh95ti6u0fb3-ID/image;s=400x800;q=60 400w,\n",
      "                    https://apollo-singapore.akamaized.net:443/v1/files/3sh95ti6u0fb3-ID/image;s=600x1200;q=60 600w\"/></noscript></figure><div class=\"IKo3_\"><div class=\"_2Vp0i\"><label><span>Highlight</span></label></div><span class=\"_89yzn\" data-aut-id=\"itemPrice\">Rp 17.000.000</span><span class=\"_2tW1I\" data-aut-id=\"itemTitle\">Beli iphone 11 pro max xs samsung galaxy note 20 s20 plus ultra fold 2</span><div class=\"_1KOFM\"><span class=\"tjgMj\" data-aut-id=\"item-location\">Bekasi Barat, Bekasi Kota</span><span class=\"zLvFQ\"><span>7 Okt</span></span></div></div></a><span class=\"_2LYp_\"><button class=\"rui-3mpO_\" data-aut-id=\"\" role=\"button\" tabindex=\"0\" title=\"Favourite\" type=\"button\"><svg class=\"\" data-aut-id=\"icon\" fill-rule=\"evenodd\" height=\"24px\" viewbox=\"0 0 1024 1024\" width=\"24px\"><path class=\"rui-77aaa\" d=\"M830.798 448.659l-318.798 389.915-317.828-388.693c-20.461-27.171-31.263-59.345-31.263-93.033 0-85.566 69.605-155.152 155.152-155.152 72.126 0 132.752 49.552 150.051 116.364h87.777c17.299-66.812 77.905-116.364 150.051-116.364 85.547 0 155.152 69.585 155.152 155.152 0 33.687-10.802 65.862-30.293 91.811zM705.939 124.121c-80.853 0-152.204 41.425-193.939 104.204-41.736-62.778-113.086-104.204-193.939-104.204-128.33 0-232.727 104.378-232.727 232.727 0 50.657 16.194 98.948 47.806 140.897l328.766 402.133h100.189l329.716-403.355c30.662-40.727 46.856-89.018 46.856-139.675 0-128.349-104.398-232.727-232.727-232.727z\"></path></svg></button></span></li>, <li class=\"EIR5N\" data-aut-id=\"itemBox\"><a class=\"fhlkh\" href=\"/item/iphone-6s-128gb-iid-802955665\"><figure class=\"_2grx4\" data-aut-id=\"itemImage\"><div class=\"_1czk1\"><div class=\"_1VzGN _1VX6L\"></div></div><noscript><img alt=\"iPhone 6s 128gb\" class=\"_3Kg_w\" sizes=\"(min-width: 1280px) 15vw, (min-width: 1024px) 20vw, (min-width: 960px) 25vw, (min-width: 540px) 25vw, (min-width: 320px) 30vw, 35vw\" src=\"https://apollo-singapore.akamaized.net:443/v1/files/gcf9dexqmi6h-ID/image;s=272x0\" srcset=\"https://apollo-singapore.akamaized.net:443/v1/files/gcf9dexqmi6h-ID/image;s=100x200;q=60 100w,\n",
      "                    https://apollo-singapore.akamaized.net:443/v1/files/gcf9dexqmi6h-ID/image;s=200x400;q=60 200w,\n",
      "                    https://apollo-singapore.akamaized.net:443/v1/files/gcf9dexqmi6h-ID/image;s=300x600;q=60 300w,\n",
      "                    https://apollo-singapore.akamaized.net:443/v1/files/gcf9dexqmi6h-ID/image;s=400x800;q=60 400w,\n",
      "                    https://apollo-singapore.akamaized.net:443/v1/files/gcf9dexqmi6h-ID/image;s=600x1200;q=60 600w\"/></noscript></figure><div class=\"IKo3_\"><div class=\"_2Vp0i\"><label><span>Highlight</span></label></div><span class=\"_89yzn\" data-aut-id=\"itemPrice\">Rp 2.150.000</span><span class=\"_2tW1I\" data-aut-id=\"itemTitle\">iPhone 6s 128gb</span><div class=\"_1KOFM\"><span class=\"tjgMj\" data-aut-id=\"item-location\">Serpong, Tangerang Selatan Kota</span><span class=\"zLvFQ\"><span>9 Okt</span></span></div></div></a><span class=\"_2LYp_\"><button class=\"rui-3mpO_\" data-aut-id=\"\" role=\"button\" tabindex=\"0\" title=\"Favourite\" type=\"button\"><svg class=\"\" data-aut-id=\"icon\" fill-rule=\"evenodd\" height=\"24px\" viewbox=\"0 0 1024 1024\" width=\"24px\"><path class=\"rui-77aaa\" d=\"M830.798 448.659l-318.798 389.915-317.828-388.693c-20.461-27.171-31.263-59.345-31.263-93.033 0-85.566 69.605-155.152 155.152-155.152 72.126 0 132.752 49.552 150.051 116.364h87.777c17.299-66.812 77.905-116.364 150.051-116.364 85.547 0 155.152 69.585 155.152 155.152 0 33.687-10.802 65.862-30.293 91.811zM705.939 124.121c-80.853 0-152.204 41.425-193.939 104.204-41.736-62.778-113.086-104.204-193.939-104.204-128.33 0-232.727 104.378-232.727 232.727 0 50.657 16.194 98.948 47.806 140.897l328.766 402.133h100.189l329.716-403.355c30.662-40.727 46.856-89.018 46.856-139.675 0-128.349-104.398-232.727-232.727-232.727z\"></path></svg></button></span></li>, <li class=\"EIR5N\" data-aut-id=\"itemBox\"><a class=\"fhlkh\" href=\"/item/iphone-se-mode-potret-64-gb-iid-801987624\"><figure class=\"_2grx4\" data-aut-id=\"itemImage\"><div class=\"_1czk1\"><div class=\"_1VzGN _1VX6L\"></div></div><noscript><img alt=\"Iphone SE Mode potret 64 gb\" class=\"_3Kg_w\" sizes=\"(min-width: 1280px) 15vw, (min-width: 1024px) 20vw, (min-width: 960px) 25vw, (min-width: 540px) 25vw, (min-width: 320px) 30vw, 35vw\" src=\"https://apollo-singapore.akamaized.net:443/v1/files/hbo2ebtz2kop3-ID/image;s=272x0\" srcset=\"https://apollo-singapore.akamaized.net:443/v1/files/hbo2ebtz2kop3-ID/image;s=100x200;q=60 100w,\n",
      "                    https://apollo-singapore.akamaized.net:443/v1/files/hbo2ebtz2kop3-ID/image;s=200x400;q=60 200w,\n",
      "                    https://apollo-singapore.akamaized.net:443/v1/files/hbo2ebtz2kop3-ID/image;s=300x600;q=60 300w,\n",
      "                    https://apollo-singapore.akamaized.net:443/v1/files/hbo2ebtz2kop3-ID/image;s=400x800;q=60 400w,\n",
      "                    https://apollo-singapore.akamaized.net:443/v1/files/hbo2ebtz2kop3-ID/image;s=600x1200;q=60 600w\"/></noscript></figure><div class=\"IKo3_\"><div class=\"_2Vp0i\"><label><span>Highlight</span></label></div><span class=\"_89yzn\" data-aut-id=\"itemPrice\">Rp 7.999.000</span><span class=\"_2tW1I\" data-aut-id=\"itemTitle\">Iphone SE Mode potret 64 gb</span><div class=\"_1KOFM\"><span class=\"tjgMj\" data-aut-id=\"item-location\">Gubeng, Surabaya Kota</span><span class=\"zLvFQ\"><span>2 Okt</span></span></div></div></a><span class=\"_2LYp_\"><button class=\"rui-3mpO_\" data-aut-id=\"\" role=\"button\" tabindex=\"0\" title=\"Favourite\" type=\"button\"><svg class=\"\" data-aut-id=\"icon\" fill-rule=\"evenodd\" height=\"24px\" viewbox=\"0 0 1024 1024\" width=\"24px\"><path class=\"rui-77aaa\" d=\"M830.798 448.659l-318.798 389.915-317.828-388.693c-20.461-27.171-31.263-59.345-31.263-93.033 0-85.566 69.605-155.152 155.152-155.152 72.126 0 132.752 49.552 150.051 116.364h87.777c17.299-66.812 77.905-116.364 150.051-116.364 85.547 0 155.152 69.585 155.152 155.152 0 33.687-10.802 65.862-30.293 91.811zM705.939 124.121c-80.853 0-152.204 41.425-193.939 104.204-41.736-62.778-113.086-104.204-193.939-104.204-128.33 0-232.727 104.378-232.727 232.727 0 50.657 16.194 98.948 47.806 140.897l328.766 402.133h100.189l329.716-403.355c30.662-40.727 46.856-89.018 46.856-139.675 0-128.349-104.398-232.727-232.727-232.727z\"></path></svg></button></span></li>, <li class=\"EIR5N\" data-aut-id=\"itemBox\"><a class=\"fhlkh\" href=\"/item/apple-iphone-11-256gb-iid-800507990\"><figure class=\"_2grx4\" data-aut-id=\"itemImage\"><div class=\"_1czk1\"><div class=\"_1VzGN _1VX6L\"></div></div><noscript><img alt=\"Apple iPhone 11 256GB\" class=\"_1N079\" sizes=\"(min-width: 1280px) 15vw, (min-width: 1024px) 20vw, (min-width: 960px) 25vw, (min-width: 540px) 25vw, (min-width: 320px) 30vw, 35vw\" src=\"https://apollo-singapore.akamaized.net:443/v1/files/oj8qz2vjilhm1-ID/image;s=272x0\" srcset=\"https://apollo-singapore.akamaized.net:443/v1/files/oj8qz2vjilhm1-ID/image;s=100x200;q=60 100w,\n",
      "                    https://apollo-singapore.akamaized.net:443/v1/files/oj8qz2vjilhm1-ID/image;s=200x400;q=60 200w,\n",
      "                    https://apollo-singapore.akamaized.net:443/v1/files/oj8qz2vjilhm1-ID/image;s=300x600;q=60 300w,\n",
      "                    https://apollo-singapore.akamaized.net:443/v1/files/oj8qz2vjilhm1-ID/image;s=400x800;q=60 400w,\n",
      "                    https://apollo-singapore.akamaized.net:443/v1/files/oj8qz2vjilhm1-ID/image;s=600x1200;q=60 600w\"/></noscript></figure><div class=\"IKo3_\"><div class=\"_2Vp0i\"><label><span>Highlight</span></label></div><span class=\"_89yzn\" data-aut-id=\"itemPrice\">Rp 15.499.000</span><span class=\"_2tW1I\" data-aut-id=\"itemTitle\">Apple iPhone 11 256GB</span><div class=\"_1KOFM\"><span class=\"tjgMj\" data-aut-id=\"item-location\">Medan Kota, Medan Kota</span><span class=\"zLvFQ\"><span>21 Sep</span></span></div></div></a><span class=\"_2LYp_\"><button class=\"rui-3mpO_\" data-aut-id=\"\" role=\"button\" tabindex=\"0\" title=\"Favourite\" type=\"button\"><svg class=\"\" data-aut-id=\"icon\" fill-rule=\"evenodd\" height=\"24px\" viewbox=\"0 0 1024 1024\" width=\"24px\"><path class=\"rui-77aaa\" d=\"M830.798 448.659l-318.798 389.915-317.828-388.693c-20.461-27.171-31.263-59.345-31.263-93.033 0-85.566 69.605-155.152 155.152-155.152 72.126 0 132.752 49.552 150.051 116.364h87.777c17.299-66.812 77.905-116.364 150.051-116.364 85.547 0 155.152 69.585 155.152 155.152 0 33.687-10.802 65.862-30.293 91.811zM705.939 124.121c-80.853 0-152.204 41.425-193.939 104.204-41.736-62.778-113.086-104.204-193.939-104.204-128.33 0-232.727 104.378-232.727 232.727 0 50.657 16.194 98.948 47.806 140.897l328.766 402.133h100.189l329.716-403.355c30.662-40.727 46.856-89.018 46.856-139.675 0-128.349-104.398-232.727-232.727-232.727z\"></path></svg></button></span></li>, <li class=\"EIR5N\" data-aut-id=\"itemBox\"><a href=\"/item/iphone-6s-128gb-iid-804024398\"><figure class=\"_2grx4\" data-aut-id=\"itemImage\"><div class=\"_1czk1\"><div class=\"_1VzGN _1VX6L\"></div></div><noscript><img alt=\"iPhone 6s 128gb\" class=\"_3Kg_w\" sizes=\"(min-width: 1280px) 15vw, (min-width: 1024px) 20vw, (min-width: 960px) 25vw, (min-width: 540px) 25vw, (min-width: 320px) 30vw, 35vw\" src=\"https://apollo-singapore.akamaized.net:443/v1/files/bnfg6t96b43q3-ID/image;s=272x0\" srcset=\"https://apollo-singapore.akamaized.net:443/v1/files/bnfg6t96b43q3-ID/image;s=100x200;q=60 100w,\n",
      "                    https://apollo-singapore.akamaized.net:443/v1/files/bnfg6t96b43q3-ID/image;s=200x400;q=60 200w,\n",
      "                    https://apollo-singapore.akamaized.net:443/v1/files/bnfg6t96b43q3-ID/image;s=300x600;q=60 300w,\n",
      "                    https://apollo-singapore.akamaized.net:443/v1/files/bnfg6t96b43q3-ID/image;s=400x800;q=60 400w,\n",
      "                    https://apollo-singapore.akamaized.net:443/v1/files/bnfg6t96b43q3-ID/image;s=600x1200;q=60 600w\"/></noscript></figure><div class=\"IKo3_\"><span class=\"_89yzn\" data-aut-id=\"itemPrice\">Rp 2.200.000</span><span class=\"_2tW1I\" data-aut-id=\"itemTitle\">iPhone 6s 128gb</span><div class=\"_1KOFM\"><span class=\"tjgMj\" data-aut-id=\"item-location\">Gunungpati, Semarang Kota</span><span class=\"zLvFQ\"><span>Hari ini</span></span></div></div></a><span class=\"_2LYp_\"><button class=\"rui-3mpO_\" data-aut-id=\"\" role=\"button\" tabindex=\"0\" title=\"Favourite\" type=\"button\"><svg class=\"\" data-aut-id=\"icon\" fill-rule=\"evenodd\" height=\"24px\" viewbox=\"0 0 1024 1024\" width=\"24px\"><path class=\"rui-77aaa\" d=\"M830.798 448.659l-318.798 389.915-317.828-388.693c-20.461-27.171-31.263-59.345-31.263-93.033 0-85.566 69.605-155.152 155.152-155.152 72.126 0 132.752 49.552 150.051 116.364h87.777c17.299-66.812 77.905-116.364 150.051-116.364 85.547 0 155.152 69.585 155.152 155.152 0 33.687-10.802 65.862-30.293 91.811zM705.939 124.121c-80.853 0-152.204 41.425-193.939 104.204-41.736-62.778-113.086-104.204-193.939-104.204-128.33 0-232.727 104.378-232.727 232.727 0 50.657 16.194 98.948 47.806 140.897l328.766 402.133h100.189l329.716-403.355c30.662-40.727 46.856-89.018 46.856-139.675 0-128.349-104.398-232.727-232.727-232.727z\"></path></svg></button></span></li>, <li class=\"EIR5N\" data-aut-id=\"itemBox\"><a href=\"/item/iphone-6s-plus-16-gb-minus-finger-ma-kesing-gk-mlus-yg-laen-mntp-bs-tt-iid-804024320\"><figure class=\"_2grx4\" data-aut-id=\"itemImage\"><div class=\"_1czk1\"><div class=\"_1VzGN _1VX6L\"></div></div><noscript><img alt=\"IPhone 6S Plus 16 Gb Minus finger ma kesing gk mlus yg laen mntp bs tt\" class=\"_3Kg_w\" sizes=\"(min-width: 1280px) 15vw, (min-width: 1024px) 20vw, (min-width: 960px) 25vw, (min-width: 540px) 25vw, (min-width: 320px) 30vw, 35vw\" src=\"https://apollo-singapore.akamaized.net:443/v1/files/o84mdz1qwege-ID/image;s=272x0\" srcset=\"https://apollo-singapore.akamaized.net:443/v1/files/o84mdz1qwege-ID/image;s=100x200;q=60 100w,\n",
      "                    https://apollo-singapore.akamaized.net:443/v1/files/o84mdz1qwege-ID/image;s=200x400;q=60 200w,\n",
      "                    https://apollo-singapore.akamaized.net:443/v1/files/o84mdz1qwege-ID/image;s=300x600;q=60 300w,\n",
      "                    https://apollo-singapore.akamaized.net:443/v1/files/o84mdz1qwege-ID/image;s=400x800;q=60 400w,\n",
      "                    https://apollo-singapore.akamaized.net:443/v1/files/o84mdz1qwege-ID/image;s=600x1200;q=60 600w\"/></noscript></figure><div class=\"IKo3_\"><span class=\"_89yzn\" data-aut-id=\"itemPrice\">Rp 2.299.999</span><span class=\"_2tW1I\" data-aut-id=\"itemTitle\">IPhone 6S Plus 16 Gb Minus finger ma kesing gk mlus yg laen mntp bs tt</span><div class=\"_1KOFM\"><span class=\"tjgMj\" data-aut-id=\"item-location\">Serpong, Tangerang Selatan Kota</span><span class=\"zLvFQ\"><span>Hari ini</span></span></div></div></a><span class=\"_2LYp_\"><button class=\"rui-3mpO_\" data-aut-id=\"\" role=\"button\" tabindex=\"0\" title=\"Favourite\" type=\"button\"><svg class=\"\" data-aut-id=\"icon\" fill-rule=\"evenodd\" height=\"24px\" viewbox=\"0 0 1024 1024\" width=\"24px\"><path class=\"rui-77aaa\" d=\"M830.798 448.659l-318.798 389.915-317.828-388.693c-20.461-27.171-31.263-59.345-31.263-93.033 0-85.566 69.605-155.152 155.152-155.152 72.126 0 132.752 49.552 150.051 116.364h87.777c17.299-66.812 77.905-116.364 150.051-116.364 85.547 0 155.152 69.585 155.152 155.152 0 33.687-10.802 65.862-30.293 91.811zM705.939 124.121c-80.853 0-152.204 41.425-193.939 104.204-41.736-62.778-113.086-104.204-193.939-104.204-128.33 0-232.727 104.378-232.727 232.727 0 50.657 16.194 98.948 47.806 140.897l328.766 402.133h100.189l329.716-403.355c30.662-40.727 46.856-89.018 46.856-139.675 0-128.349-104.398-232.727-232.727-232.727z\"></path></svg></button></span></li>, <li class=\"EIR5N\" data-aut-id=\"itemBox\"><a href=\"/item/iphone-7-jet-black-128gb-garansi-iid-804024311\"><figure class=\"_2grx4\" data-aut-id=\"itemImage\"><div class=\"_1czk1\"><div class=\"_1VzGN _1VX6L\"></div></div><noscript><img alt=\"Iphone 7 jet black 128gb garansi\" class=\"_1N079\" sizes=\"(min-width: 1280px) 15vw, (min-width: 1024px) 20vw, (min-width: 960px) 25vw, (min-width: 540px) 25vw, (min-width: 320px) 30vw, 35vw\" src=\"https://apollo-singapore.akamaized.net:443/v1/files/m8itfn0g8eg43-ID/image;s=272x0\" srcset=\"https://apollo-singapore.akamaized.net:443/v1/files/m8itfn0g8eg43-ID/image;s=100x200;q=60 100w,\n",
      "                    https://apollo-singapore.akamaized.net:443/v1/files/m8itfn0g8eg43-ID/image;s=200x400;q=60 200w,\n",
      "                    https://apollo-singapore.akamaized.net:443/v1/files/m8itfn0g8eg43-ID/image;s=300x600;q=60 300w,\n",
      "                    https://apollo-singapore.akamaized.net:443/v1/files/m8itfn0g8eg43-ID/image;s=400x800;q=60 400w,\n",
      "                    https://apollo-singapore.akamaized.net:443/v1/files/m8itfn0g8eg43-ID/image;s=600x1200;q=60 600w\"/></noscript></figure><div class=\"IKo3_\"><span class=\"_89yzn\" data-aut-id=\"itemPrice\">Rp 3.500.000</span><span class=\"_2tW1I\" data-aut-id=\"itemTitle\">Iphone 7 jet black 128gb garansi</span><div class=\"_1KOFM\"><span class=\"tjgMj\" data-aut-id=\"item-location\">Duren Sawit, Jakarta Timur</span><span class=\"zLvFQ\"><span>Hari ini</span></span></div></div></a><span class=\"_2LYp_\"><button class=\"rui-3mpO_\" data-aut-id=\"\" role=\"button\" tabindex=\"0\" title=\"Favourite\" type=\"button\"><svg class=\"\" data-aut-id=\"icon\" fill-rule=\"evenodd\" height=\"24px\" viewbox=\"0 0 1024 1024\" width=\"24px\"><path class=\"rui-77aaa\" d=\"M830.798 448.659l-318.798 389.915-317.828-388.693c-20.461-27.171-31.263-59.345-31.263-93.033 0-85.566 69.605-155.152 155.152-155.152 72.126 0 132.752 49.552 150.051 116.364h87.777c17.299-66.812 77.905-116.364 150.051-116.364 85.547 0 155.152 69.585 155.152 155.152 0 33.687-10.802 65.862-30.293 91.811zM705.939 124.121c-80.853 0-152.204 41.425-193.939 104.204-41.736-62.778-113.086-104.204-193.939-104.204-128.33 0-232.727 104.378-232.727 232.727 0 50.657 16.194 98.948 47.806 140.897l328.766 402.133h100.189l329.716-403.355c30.662-40.727 46.856-89.018 46.856-139.675 0-128.349-104.398-232.727-232.727-232.727z\"></path></svg></button></span></li>, <li class=\"EIR5N\" data-aut-id=\"itemBox\"><a href=\"/item/iphone-8-plus-256-gb-hp-dan-cas-ex-inter-iid-804024240\"><figure class=\"_2grx4\" data-aut-id=\"itemImage\"><div class=\"_1czk1\"><div class=\"_1VzGN _1VX6L\"></div></div><noscript><img alt=\"Iphone 8 plus 256 gb hp dan cas ex inter\" class=\"_3Kg_w\" sizes=\"(min-width: 1280px) 15vw, (min-width: 1024px) 20vw, (min-width: 960px) 25vw, (min-width: 540px) 25vw, (min-width: 320px) 30vw, 35vw\" src=\"https://apollo-singapore.akamaized.net:443/v1/files/p2o0r8qtuwma1-ID/image;s=272x0\" srcset=\"https://apollo-singapore.akamaized.net:443/v1/files/p2o0r8qtuwma1-ID/image;s=100x200;q=60 100w,\n",
      "                    https://apollo-singapore.akamaized.net:443/v1/files/p2o0r8qtuwma1-ID/image;s=200x400;q=60 200w,\n",
      "                    https://apollo-singapore.akamaized.net:443/v1/files/p2o0r8qtuwma1-ID/image;s=300x600;q=60 300w,\n",
      "                    https://apollo-singapore.akamaized.net:443/v1/files/p2o0r8qtuwma1-ID/image;s=400x800;q=60 400w,\n",
      "                    https://apollo-singapore.akamaized.net:443/v1/files/p2o0r8qtuwma1-ID/image;s=600x1200;q=60 600w\"/></noscript></figure><div class=\"IKo3_\"><span class=\"_89yzn\" data-aut-id=\"itemPrice\">Rp 6.750.000</span><span class=\"_2tW1I\" data-aut-id=\"itemTitle\">Iphone 8 plus 256 gb hp dan cas ex inter</span><div class=\"_1KOFM\"><span class=\"tjgMj\" data-aut-id=\"item-location\">Makassar, Makassar Kota</span><span class=\"zLvFQ\"><span>Hari ini</span></span></div></div></a><span class=\"_2LYp_\"><button class=\"rui-3mpO_\" data-aut-id=\"\" role=\"button\" tabindex=\"0\" title=\"Favourite\" type=\"button\"><svg class=\"\" data-aut-id=\"icon\" fill-rule=\"evenodd\" height=\"24px\" viewbox=\"0 0 1024 1024\" width=\"24px\"><path class=\"rui-77aaa\" d=\"M830.798 448.659l-318.798 389.915-317.828-388.693c-20.461-27.171-31.263-59.345-31.263-93.033 0-85.566 69.605-155.152 155.152-155.152 72.126 0 132.752 49.552 150.051 116.364h87.777c17.299-66.812 77.905-116.364 150.051-116.364 85.547 0 155.152 69.585 155.152 155.152 0 33.687-10.802 65.862-30.293 91.811zM705.939 124.121c-80.853 0-152.204 41.425-193.939 104.204-41.736-62.778-113.086-104.204-193.939-104.204-128.33 0-232.727 104.378-232.727 232.727 0 50.657 16.194 98.948 47.806 140.897l328.766 402.133h100.189l329.716-403.355c30.662-40.727 46.856-89.018 46.856-139.675 0-128.349-104.398-232.727-232.727-232.727z\"></path></svg></button></span></li>, <li class=\"EIR5N\" data-aut-id=\"itemBox\"><a href=\"/item/iphone-5s-murmer-iid-804024209\"><figure class=\"_2grx4\" data-aut-id=\"itemImage\"><div class=\"_1czk1\"><div class=\"_1VzGN _1VX6L\"></div></div><noscript><img alt=\"IPHONE 5S MURMER\" class=\"_1N079\" sizes=\"(min-width: 1280px) 15vw, (min-width: 1024px) 20vw, (min-width: 960px) 25vw, (min-width: 540px) 25vw, (min-width: 320px) 30vw, 35vw\" src=\"https://apollo-singapore.akamaized.net:443/v1/files/elp0i46envul1-ID/image;s=272x0\" srcset=\"https://apollo-singapore.akamaized.net:443/v1/files/elp0i46envul1-ID/image;s=100x200;q=60 100w,\n",
      "                    https://apollo-singapore.akamaized.net:443/v1/files/elp0i46envul1-ID/image;s=200x400;q=60 200w,\n",
      "                    https://apollo-singapore.akamaized.net:443/v1/files/elp0i46envul1-ID/image;s=300x600;q=60 300w,\n",
      "                    https://apollo-singapore.akamaized.net:443/v1/files/elp0i46envul1-ID/image;s=400x800;q=60 400w,\n",
      "                    https://apollo-singapore.akamaized.net:443/v1/files/elp0i46envul1-ID/image;s=600x1200;q=60 600w\"/></noscript></figure><div class=\"IKo3_\"><span class=\"_89yzn\" data-aut-id=\"itemPrice\">Rp 920.000</span><span class=\"_2tW1I\" data-aut-id=\"itemTitle\">IPHONE 5S MURMER</span><div class=\"_1KOFM\"><span class=\"tjgMj\" data-aut-id=\"item-location\">Pancoran, Jakarta Selatan</span><span class=\"zLvFQ\"><span>Hari ini</span></span></div></div></a><span class=\"_2LYp_\"><button class=\"rui-3mpO_\" data-aut-id=\"\" role=\"button\" tabindex=\"0\" title=\"Favourite\" type=\"button\"><svg class=\"\" data-aut-id=\"icon\" fill-rule=\"evenodd\" height=\"24px\" viewbox=\"0 0 1024 1024\" width=\"24px\"><path class=\"rui-77aaa\" d=\"M830.798 448.659l-318.798 389.915-317.828-388.693c-20.461-27.171-31.263-59.345-31.263-93.033 0-85.566 69.605-155.152 155.152-155.152 72.126 0 132.752 49.552 150.051 116.364h87.777c17.299-66.812 77.905-116.364 150.051-116.364 85.547 0 155.152 69.585 155.152 155.152 0 33.687-10.802 65.862-30.293 91.811zM705.939 124.121c-80.853 0-152.204 41.425-193.939 104.204-41.736-62.778-113.086-104.204-193.939-104.204-128.33 0-232.727 104.378-232.727 232.727 0 50.657 16.194 98.948 47.806 140.897l328.766 402.133h100.189l329.716-403.355c30.662-40.727 46.856-89.018 46.856-139.675 0-128.349-104.398-232.727-232.727-232.727z\"></path></svg></button></span></li>, <li class=\"EIR5N\" data-aut-id=\"itemBox\"><a href=\"/item/softcase-aero-mychoice-bumper-mika-u-iphone-xr-iid-804024195\"><figure class=\"_2grx4\" data-aut-id=\"itemImage\"><div class=\"_1czk1\"><div class=\"_1VzGN _1VX6L\"></div></div><noscript><img alt=\"softcase aero / mychoice / bumper mika u Iphone XR\" class=\"_1N079\" sizes=\"(min-width: 1280px) 15vw, (min-width: 1024px) 20vw, (min-width: 960px) 25vw, (min-width: 540px) 25vw, (min-width: 320px) 30vw, 35vw\" src=\"https://apollo-singapore.akamaized.net:443/v1/files/4mz8kv7u98zb-ID/image;s=272x0\" srcset=\"https://apollo-singapore.akamaized.net:443/v1/files/4mz8kv7u98zb-ID/image;s=100x200;q=60 100w,\n",
      "                    https://apollo-singapore.akamaized.net:443/v1/files/4mz8kv7u98zb-ID/image;s=200x400;q=60 200w,\n",
      "                    https://apollo-singapore.akamaized.net:443/v1/files/4mz8kv7u98zb-ID/image;s=300x600;q=60 300w,\n",
      "                    https://apollo-singapore.akamaized.net:443/v1/files/4mz8kv7u98zb-ID/image;s=400x800;q=60 400w,\n",
      "                    https://apollo-singapore.akamaized.net:443/v1/files/4mz8kv7u98zb-ID/image;s=600x1200;q=60 600w\"/></noscript></figure><div class=\"IKo3_\"><span class=\"_89yzn\" data-aut-id=\"itemPrice\">Rp 30.000</span><span class=\"_2tW1I\" data-aut-id=\"itemTitle\">softcase aero / mychoice / bumper mika u Iphone XR</span><div class=\"_1KOFM\"><span class=\"tjgMj\" data-aut-id=\"item-location\">Denpasar Barat, Denpasar Kota</span><span class=\"zLvFQ\"><span>Hari ini</span></span></div></div></a><span class=\"_2LYp_\"><button class=\"rui-3mpO_\" data-aut-id=\"\" role=\"button\" tabindex=\"0\" title=\"Favourite\" type=\"button\"><svg class=\"\" data-aut-id=\"icon\" fill-rule=\"evenodd\" height=\"24px\" viewbox=\"0 0 1024 1024\" width=\"24px\"><path class=\"rui-77aaa\" d=\"M830.798 448.659l-318.798 389.915-317.828-388.693c-20.461-27.171-31.263-59.345-31.263-93.033 0-85.566 69.605-155.152 155.152-155.152 72.126 0 132.752 49.552 150.051 116.364h87.777c17.299-66.812 77.905-116.364 150.051-116.364 85.547 0 155.152 69.585 155.152 155.152 0 33.687-10.802 65.862-30.293 91.811zM705.939 124.121c-80.853 0-152.204 41.425-193.939 104.204-41.736-62.778-113.086-104.204-193.939-104.204-128.33 0-232.727 104.378-232.727 232.727 0 50.657 16.194 98.948 47.806 140.897l328.766 402.133h100.189l329.716-403.355c30.662-40.727 46.856-89.018 46.856-139.675 0-128.349-104.398-232.727-232.727-232.727z\"></path></svg></button></span></li>, <li class=\"EIR5N\" data-aut-id=\"itemBox\"><a href=\"/item/iphone-6s-64-gb-iid-804024149\"><figure class=\"_2grx4\" data-aut-id=\"itemImage\"><div class=\"_1czk1\"><div class=\"_1VzGN _1VX6L\"></div></div><noscript><img alt=\"Iphone 6s 64 gb\" class=\"_3Kg_w\" sizes=\"(min-width: 1280px) 15vw, (min-width: 1024px) 20vw, (min-width: 960px) 25vw, (min-width: 540px) 25vw, (min-width: 320px) 30vw, 35vw\" src=\"https://apollo-singapore.akamaized.net:443/v1/files/cyi2cvq3wxl93-ID/image;s=272x0\" srcset=\"https://apollo-singapore.akamaized.net:443/v1/files/cyi2cvq3wxl93-ID/image;s=100x200;q=60 100w,\n",
      "                    https://apollo-singapore.akamaized.net:443/v1/files/cyi2cvq3wxl93-ID/image;s=200x400;q=60 200w,\n",
      "                    https://apollo-singapore.akamaized.net:443/v1/files/cyi2cvq3wxl93-ID/image;s=300x600;q=60 300w,\n",
      "                    https://apollo-singapore.akamaized.net:443/v1/files/cyi2cvq3wxl93-ID/image;s=400x800;q=60 400w,\n",
      "                    https://apollo-singapore.akamaized.net:443/v1/files/cyi2cvq3wxl93-ID/image;s=600x1200;q=60 600w\"/></noscript></figure><div class=\"IKo3_\"><span class=\"_89yzn\" data-aut-id=\"itemPrice\">Rp 2.350.000</span><span class=\"_2tW1I\" data-aut-id=\"itemTitle\">Iphone 6s 64 gb</span><div class=\"_1KOFM\"><span class=\"tjgMj\" data-aut-id=\"item-location\">Pabean Cantikan, Surabaya Kota</span><span class=\"zLvFQ\"><span>Hari ini</span></span></div></div></a><span class=\"_2LYp_\"><button class=\"rui-3mpO_\" data-aut-id=\"\" role=\"button\" tabindex=\"0\" title=\"Favourite\" type=\"button\"><svg class=\"\" data-aut-id=\"icon\" fill-rule=\"evenodd\" height=\"24px\" viewbox=\"0 0 1024 1024\" width=\"24px\"><path class=\"rui-77aaa\" d=\"M830.798 448.659l-318.798 389.915-317.828-388.693c-20.461-27.171-31.263-59.345-31.263-93.033 0-85.566 69.605-155.152 155.152-155.152 72.126 0 132.752 49.552 150.051 116.364h87.777c17.299-66.812 77.905-116.364 150.051-116.364 85.547 0 155.152 69.585 155.152 155.152 0 33.687-10.802 65.862-30.293 91.811zM705.939 124.121c-80.853 0-152.204 41.425-193.939 104.204-41.736-62.778-113.086-104.204-193.939-104.204-128.33 0-232.727 104.378-232.727 232.727 0 50.657 16.194 98.948 47.806 140.897l328.766 402.133h100.189l329.716-403.355c30.662-40.727 46.856-89.018 46.856-139.675 0-128.349-104.398-232.727-232.727-232.727z\"></path></svg></button></span></li>, <li class=\"EIR5N\" data-aut-id=\"itemBox\"><a href=\"/item/apple-iphone-6s-plus-16gb-grey-bisa-tt-iid-804023978\"><figure class=\"_2grx4\" data-aut-id=\"itemImage\"><div class=\"_1czk1\"><div class=\"_1VzGN _1VX6L\"></div></div><noscript><img alt=\"Apple Iphone 6s Plus 16gb Grey bisa Tt\" class=\"_3Kg_w\" sizes=\"(min-width: 1280px) 15vw, (min-width: 1024px) 20vw, (min-width: 960px) 25vw, (min-width: 540px) 25vw, (min-width: 320px) 30vw, 35vw\" src=\"https://apollo-singapore.akamaized.net:443/v1/files/k9507hfmppcd1-ID/image;s=272x0\" srcset=\"https://apollo-singapore.akamaized.net:443/v1/files/k9507hfmppcd1-ID/image;s=100x200;q=60 100w,\n",
      "                    https://apollo-singapore.akamaized.net:443/v1/files/k9507hfmppcd1-ID/image;s=200x400;q=60 200w,\n",
      "                    https://apollo-singapore.akamaized.net:443/v1/files/k9507hfmppcd1-ID/image;s=300x600;q=60 300w,\n",
      "                    https://apollo-singapore.akamaized.net:443/v1/files/k9507hfmppcd1-ID/image;s=400x800;q=60 400w,\n",
      "                    https://apollo-singapore.akamaized.net:443/v1/files/k9507hfmppcd1-ID/image;s=600x1200;q=60 600w\"/></noscript></figure><div class=\"IKo3_\"><span class=\"_89yzn\" data-aut-id=\"itemPrice\">Rp 2.875.000</span><span class=\"_2tW1I\" data-aut-id=\"itemTitle\">Apple Iphone 6s Plus 16gb Grey bisa Tt</span><div class=\"_1KOFM\"><span class=\"tjgMj\" data-aut-id=\"item-location\">Kasihan, Bantul Kab.</span><span class=\"zLvFQ\"><span>Hari ini</span></span></div></div></a><span class=\"_2LYp_\"><button class=\"rui-3mpO_\" data-aut-id=\"\" role=\"button\" tabindex=\"0\" title=\"Favourite\" type=\"button\"><svg class=\"\" data-aut-id=\"icon\" fill-rule=\"evenodd\" height=\"24px\" viewbox=\"0 0 1024 1024\" width=\"24px\"><path class=\"rui-77aaa\" d=\"M830.798 448.659l-318.798 389.915-317.828-388.693c-20.461-27.171-31.263-59.345-31.263-93.033 0-85.566 69.605-155.152 155.152-155.152 72.126 0 132.752 49.552 150.051 116.364h87.777c17.299-66.812 77.905-116.364 150.051-116.364 85.547 0 155.152 69.585 155.152 155.152 0 33.687-10.802 65.862-30.293 91.811zM705.939 124.121c-80.853 0-152.204 41.425-193.939 104.204-41.736-62.778-113.086-104.204-193.939-104.204-128.33 0-232.727 104.378-232.727 232.727 0 50.657 16.194 98.948 47.806 140.897l328.766 402.133h100.189l329.716-403.355c30.662-40.727 46.856-89.018 46.856-139.675 0-128.349-104.398-232.727-232.727-232.727z\"></path></svg></button></span></li>, <li class=\"EIR5N\" data-aut-id=\"itemBox\"><a href=\"/item/iphone-7-256-gb-iid-804023955\"><figure class=\"_2grx4\" data-aut-id=\"itemImage\"><div class=\"_1czk1\"><div class=\"_1VzGN _1VX6L\"></div></div><noscript><img alt=\"IPHONE 7+  256 gb\" class=\"_3Kg_w\" sizes=\"(min-width: 1280px) 15vw, (min-width: 1024px) 20vw, (min-width: 960px) 25vw, (min-width: 540px) 25vw, (min-width: 320px) 30vw, 35vw\" src=\"https://apollo-singapore.akamaized.net:443/v1/files/xwfqabia6xtx1-ID/image;s=272x0\" srcset=\"https://apollo-singapore.akamaized.net:443/v1/files/xwfqabia6xtx1-ID/image;s=100x200;q=60 100w,\n",
      "                    https://apollo-singapore.akamaized.net:443/v1/files/xwfqabia6xtx1-ID/image;s=200x400;q=60 200w,\n",
      "                    https://apollo-singapore.akamaized.net:443/v1/files/xwfqabia6xtx1-ID/image;s=300x600;q=60 300w,\n",
      "                    https://apollo-singapore.akamaized.net:443/v1/files/xwfqabia6xtx1-ID/image;s=400x800;q=60 400w,\n",
      "                    https://apollo-singapore.akamaized.net:443/v1/files/xwfqabia6xtx1-ID/image;s=600x1200;q=60 600w\"/></noscript></figure><div class=\"IKo3_\"><span class=\"_89yzn\" data-aut-id=\"itemPrice\">Rp 4.100.000</span><span class=\"_2tW1I\" data-aut-id=\"itemTitle\">IPHONE 7+  256 gb</span><div class=\"_1KOFM\"><span class=\"tjgMj\" data-aut-id=\"item-location\">Way Halim, Bandar Lampung Kota</span><span class=\"zLvFQ\"><span>Hari ini</span></span></div></div></a><span class=\"_2LYp_\"><button class=\"rui-3mpO_\" data-aut-id=\"\" role=\"button\" tabindex=\"0\" title=\"Favourite\" type=\"button\"><svg class=\"\" data-aut-id=\"icon\" fill-rule=\"evenodd\" height=\"24px\" viewbox=\"0 0 1024 1024\" width=\"24px\"><path class=\"rui-77aaa\" d=\"M830.798 448.659l-318.798 389.915-317.828-388.693c-20.461-27.171-31.263-59.345-31.263-93.033 0-85.566 69.605-155.152 155.152-155.152 72.126 0 132.752 49.552 150.051 116.364h87.777c17.299-66.812 77.905-116.364 150.051-116.364 85.547 0 155.152 69.585 155.152 155.152 0 33.687-10.802 65.862-30.293 91.811zM705.939 124.121c-80.853 0-152.204 41.425-193.939 104.204-41.736-62.778-113.086-104.204-193.939-104.204-128.33 0-232.727 104.378-232.727 232.727 0 50.657 16.194 98.948 47.806 140.897l328.766 402.133h100.189l329.716-403.355c30.662-40.727 46.856-89.018 46.856-139.675 0-128.349-104.398-232.727-232.727-232.727z\"></path></svg></button></span></li>, <li class=\"EIR5N\" data-aut-id=\"itemBox\"><a href=\"/item/jual-iphone-732-warna-jetblack-new-inter-imei-aman-iid-804023920\"><figure class=\"_2grx4\" data-aut-id=\"itemImage\"><div class=\"_1czk1\"><div class=\"_1VzGN _1VX6L\"></div></div><noscript><img alt=\"Jual iphone 7+32 warna jetblack new inter, imei  aman\" class=\"_3Kg_w\" sizes=\"(min-width: 1280px) 15vw, (min-width: 1024px) 20vw, (min-width: 960px) 25vw, (min-width: 540px) 25vw, (min-width: 320px) 30vw, 35vw\" src=\"https://apollo-singapore.akamaized.net:443/v1/files/86r4q8ev66e52-ID/image;s=272x0\" srcset=\"https://apollo-singapore.akamaized.net:443/v1/files/86r4q8ev66e52-ID/image;s=100x200;q=60 100w,\n",
      "                    https://apollo-singapore.akamaized.net:443/v1/files/86r4q8ev66e52-ID/image;s=200x400;q=60 200w,\n",
      "                    https://apollo-singapore.akamaized.net:443/v1/files/86r4q8ev66e52-ID/image;s=300x600;q=60 300w,\n",
      "                    https://apollo-singapore.akamaized.net:443/v1/files/86r4q8ev66e52-ID/image;s=400x800;q=60 400w,\n",
      "                    https://apollo-singapore.akamaized.net:443/v1/files/86r4q8ev66e52-ID/image;s=600x1200;q=60 600w\"/></noscript></figure><div class=\"IKo3_\"><span class=\"_89yzn\" data-aut-id=\"itemPrice\">Rp 6.500.000</span><span class=\"_2tW1I\" data-aut-id=\"itemTitle\">Jual iphone 7+32 warna jetblack new inter, imei  aman</span><div class=\"_1KOFM\"><span class=\"tjgMj\" data-aut-id=\"item-location\">Sumur Bandung, Bandung Kota</span><span class=\"zLvFQ\"><span>Hari ini</span></span></div></div></a><span class=\"_2LYp_\"><button class=\"rui-3mpO_\" data-aut-id=\"\" role=\"button\" tabindex=\"0\" title=\"Favourite\" type=\"button\"><svg class=\"\" data-aut-id=\"icon\" fill-rule=\"evenodd\" height=\"24px\" viewbox=\"0 0 1024 1024\" width=\"24px\"><path class=\"rui-77aaa\" d=\"M830.798 448.659l-318.798 389.915-317.828-388.693c-20.461-27.171-31.263-59.345-31.263-93.033 0-85.566 69.605-155.152 155.152-155.152 72.126 0 132.752 49.552 150.051 116.364h87.777c17.299-66.812 77.905-116.364 150.051-116.364 85.547 0 155.152 69.585 155.152 155.152 0 33.687-10.802 65.862-30.293 91.811zM705.939 124.121c-80.853 0-152.204 41.425-193.939 104.204-41.736-62.778-113.086-104.204-193.939-104.204-128.33 0-232.727 104.378-232.727 232.727 0 50.657 16.194 98.948 47.806 140.897l328.766 402.133h100.189l329.716-403.355c30.662-40.727 46.856-89.018 46.856-139.675 0-128.349-104.398-232.727-232.727-232.727z\"></path></svg></button></span></li>, <li class=\"EIR5N\" data-aut-id=\"itemBox\"><a href=\"/item/jasa-bypass-iphone-lock-icloud-iid-804023880\"><figure class=\"_2grx4\" data-aut-id=\"itemImage\"><div class=\"_1czk1\"><div class=\"_1VzGN _1VX6L\"></div></div><noscript><img alt=\"Jasa bypass iPhone lock iCloud\" class=\"_1N079\" sizes=\"(min-width: 1280px) 15vw, (min-width: 1024px) 20vw, (min-width: 960px) 25vw, (min-width: 540px) 25vw, (min-width: 320px) 30vw, 35vw\" src=\"https://apollo-singapore.akamaized.net:443/v1/files/dxc9h8lujhml1-ID/image;s=272x0\" srcset=\"https://apollo-singapore.akamaized.net:443/v1/files/dxc9h8lujhml1-ID/image;s=100x200;q=60 100w,\n",
      "                    https://apollo-singapore.akamaized.net:443/v1/files/dxc9h8lujhml1-ID/image;s=200x400;q=60 200w,\n",
      "                    https://apollo-singapore.akamaized.net:443/v1/files/dxc9h8lujhml1-ID/image;s=300x600;q=60 300w,\n",
      "                    https://apollo-singapore.akamaized.net:443/v1/files/dxc9h8lujhml1-ID/image;s=400x800;q=60 400w,\n",
      "                    https://apollo-singapore.akamaized.net:443/v1/files/dxc9h8lujhml1-ID/image;s=600x1200;q=60 600w\"/></noscript></figure><div class=\"IKo3_\"><span class=\"_89yzn\" data-aut-id=\"itemPrice\">Rp 100.000</span><span class=\"_2tW1I\" data-aut-id=\"itemTitle\">Jasa bypass iPhone lock iCloud</span><div class=\"_1KOFM\"><span class=\"tjgMj\" data-aut-id=\"item-location\">Majalaya, Bandung Kab.</span><span class=\"zLvFQ\"><span>Hari ini</span></span></div></div></a><span class=\"_2LYp_\"><button class=\"rui-3mpO_\" data-aut-id=\"\" role=\"button\" tabindex=\"0\" title=\"Favourite\" type=\"button\"><svg class=\"\" data-aut-id=\"icon\" fill-rule=\"evenodd\" height=\"24px\" viewbox=\"0 0 1024 1024\" width=\"24px\"><path class=\"rui-77aaa\" d=\"M830.798 448.659l-318.798 389.915-317.828-388.693c-20.461-27.171-31.263-59.345-31.263-93.033 0-85.566 69.605-155.152 155.152-155.152 72.126 0 132.752 49.552 150.051 116.364h87.777c17.299-66.812 77.905-116.364 150.051-116.364 85.547 0 155.152 69.585 155.152 155.152 0 33.687-10.802 65.862-30.293 91.811zM705.939 124.121c-80.853 0-152.204 41.425-193.939 104.204-41.736-62.778-113.086-104.204-193.939-104.204-128.33 0-232.727 104.378-232.727 232.727 0 50.657 16.194 98.948 47.806 140.897l328.766 402.133h100.189l329.716-403.355c30.662-40.727 46.856-89.018 46.856-139.675 0-128.349-104.398-232.727-232.727-232.727z\"></path></svg></button></span></li>, <li class=\"EIR5N\" data-aut-id=\"itemBox\"><a href=\"/item/for-sale-iphone-5s-32gb-grey-mulus-fullsett-iid-804023811\"><figure class=\"_2grx4\" data-aut-id=\"itemImage\"><div class=\"_1czk1\"><div class=\"_1VzGN _1VX6L\"></div></div><noscript><img alt=\"for sale iphone 5s 32gb grey mulus fullsett\" class=\"_3Kg_w\" sizes=\"(min-width: 1280px) 15vw, (min-width: 1024px) 20vw, (min-width: 960px) 25vw, (min-width: 540px) 25vw, (min-width: 320px) 30vw, 35vw\" src=\"https://apollo-singapore.akamaized.net:443/v1/files/swqnkn0xgcl22-ID/image;s=272x0\" srcset=\"https://apollo-singapore.akamaized.net:443/v1/files/swqnkn0xgcl22-ID/image;s=100x200;q=60 100w,\n",
      "                    https://apollo-singapore.akamaized.net:443/v1/files/swqnkn0xgcl22-ID/image;s=200x400;q=60 200w,\n",
      "                    https://apollo-singapore.akamaized.net:443/v1/files/swqnkn0xgcl22-ID/image;s=300x600;q=60 300w,\n",
      "                    https://apollo-singapore.akamaized.net:443/v1/files/swqnkn0xgcl22-ID/image;s=400x800;q=60 400w,\n",
      "                    https://apollo-singapore.akamaized.net:443/v1/files/swqnkn0xgcl22-ID/image;s=600x1200;q=60 600w\"/></noscript></figure><div class=\"IKo3_\"><span class=\"_89yzn\" data-aut-id=\"itemPrice\">Rp 1.200.000</span><span class=\"_2tW1I\" data-aut-id=\"itemTitle\">for sale iphone 5s 32gb grey mulus fullsett</span><div class=\"_1KOFM\"><span class=\"tjgMj\" data-aut-id=\"item-location\">Sumur Bandung, Bandung Kota</span><span class=\"zLvFQ\"><span>Hari ini</span></span></div></div></a><span class=\"_2LYp_\"><button class=\"rui-3mpO_\" data-aut-id=\"\" role=\"button\" tabindex=\"0\" title=\"Favourite\" type=\"button\"><svg class=\"\" data-aut-id=\"icon\" fill-rule=\"evenodd\" height=\"24px\" viewbox=\"0 0 1024 1024\" width=\"24px\"><path class=\"rui-77aaa\" d=\"M830.798 448.659l-318.798 389.915-317.828-388.693c-20.461-27.171-31.263-59.345-31.263-93.033 0-85.566 69.605-155.152 155.152-155.152 72.126 0 132.752 49.552 150.051 116.364h87.777c17.299-66.812 77.905-116.364 150.051-116.364 85.547 0 155.152 69.585 155.152 155.152 0 33.687-10.802 65.862-30.293 91.811zM705.939 124.121c-80.853 0-152.204 41.425-193.939 104.204-41.736-62.778-113.086-104.204-193.939-104.204-128.33 0-232.727 104.378-232.727 232.727 0 50.657 16.194 98.948 47.806 140.897l328.766 402.133h100.189l329.716-403.355c30.662-40.727 46.856-89.018 46.856-139.675 0-128.349-104.398-232.727-232.727-232.727z\"></path></svg></button></span></li>, <li class=\"EIR5N\" data-aut-id=\"itemBox\"><a href=\"/item/iphone-7-128g-rededition-iid-799668866\"><figure class=\"_2grx4\" data-aut-id=\"itemImage\"><div class=\"_1czk1\"><div class=\"_1VzGN _1VX6L\"></div></div><noscript><img alt=\"Iphone 7+ 128G RedEdition\" class=\"_3Kg_w\" sizes=\"(min-width: 1280px) 15vw, (min-width: 1024px) 20vw, (min-width: 960px) 25vw, (min-width: 540px) 25vw, (min-width: 320px) 30vw, 35vw\" src=\"https://apollo-singapore.akamaized.net:443/v1/files/pa8xq7wf3a4e2-ID/image;s=272x0\" srcset=\"https://apollo-singapore.akamaized.net:443/v1/files/pa8xq7wf3a4e2-ID/image;s=100x200;q=60 100w,\n",
      "                    https://apollo-singapore.akamaized.net:443/v1/files/pa8xq7wf3a4e2-ID/image;s=200x400;q=60 200w,\n",
      "                    https://apollo-singapore.akamaized.net:443/v1/files/pa8xq7wf3a4e2-ID/image;s=300x600;q=60 300w,\n",
      "                    https://apollo-singapore.akamaized.net:443/v1/files/pa8xq7wf3a4e2-ID/image;s=400x800;q=60 400w,\n",
      "                    https://apollo-singapore.akamaized.net:443/v1/files/pa8xq7wf3a4e2-ID/image;s=600x1200;q=60 600w\"/></noscript></figure><div class=\"IKo3_\"><span class=\"_89yzn\" data-aut-id=\"itemPrice\">Rp 4.500.000</span><span class=\"_2tW1I\" data-aut-id=\"itemTitle\">Iphone 7+ 128G RedEdition</span><div class=\"_1KOFM\"><span class=\"tjgMj\" data-aut-id=\"item-location\">Bandung Kidul, Bandung Kota</span><span class=\"zLvFQ\"><span>Hari ini</span></span></div></div></a><span class=\"_2LYp_\"><button class=\"rui-3mpO_\" data-aut-id=\"\" role=\"button\" tabindex=\"0\" title=\"Favourite\" type=\"button\"><svg class=\"\" data-aut-id=\"icon\" fill-rule=\"evenodd\" height=\"24px\" viewbox=\"0 0 1024 1024\" width=\"24px\"><path class=\"rui-77aaa\" d=\"M830.798 448.659l-318.798 389.915-317.828-388.693c-20.461-27.171-31.263-59.345-31.263-93.033 0-85.566 69.605-155.152 155.152-155.152 72.126 0 132.752 49.552 150.051 116.364h87.777c17.299-66.812 77.905-116.364 150.051-116.364 85.547 0 155.152 69.585 155.152 155.152 0 33.687-10.802 65.862-30.293 91.811zM705.939 124.121c-80.853 0-152.204 41.425-193.939 104.204-41.736-62.778-113.086-104.204-193.939-104.204-128.33 0-232.727 104.378-232.727 232.727 0 50.657 16.194 98.948 47.806 140.897l328.766 402.133h100.189l329.716-403.355c30.662-40.727 46.856-89.018 46.856-139.675 0-128.349-104.398-232.727-232.727-232.727z\"></path></svg></button></span></li>, <li class=\"EIR5N\" data-aut-id=\"itemBox\"><a href=\"/item/iphone-x-bh-90-new-mulusss-64gb-tt-xs-max-xr-8-7-plus-6s-11-pro-iid-804023745\"><figure class=\"_2grx4\" data-aut-id=\"itemImage\"><div class=\"_1czk1\"><div class=\"_1VzGN _1VX6L\"></div></div><noscript><img alt=\"Iphone x BH 90% New Mulusss 64Gb Tt xs Max xr 8+ 7 Plus 6s 11 pro\" class=\"_1N079\" sizes=\"(min-width: 1280px) 15vw, (min-width: 1024px) 20vw, (min-width: 960px) 25vw, (min-width: 540px) 25vw, (min-width: 320px) 30vw, 35vw\" src=\"https://apollo-singapore.akamaized.net:443/v1/files/85sd7w6atl611-ID/image;s=272x0\" srcset=\"https://apollo-singapore.akamaized.net:443/v1/files/85sd7w6atl611-ID/image;s=100x200;q=60 100w,\n",
      "                    https://apollo-singapore.akamaized.net:443/v1/files/85sd7w6atl611-ID/image;s=200x400;q=60 200w,\n",
      "                    https://apollo-singapore.akamaized.net:443/v1/files/85sd7w6atl611-ID/image;s=300x600;q=60 300w,\n",
      "                    https://apollo-singapore.akamaized.net:443/v1/files/85sd7w6atl611-ID/image;s=400x800;q=60 400w,\n",
      "                    https://apollo-singapore.akamaized.net:443/v1/files/85sd7w6atl611-ID/image;s=600x1200;q=60 600w\"/></noscript></figure><div class=\"IKo3_\"><span class=\"_89yzn\" data-aut-id=\"itemPrice\">Rp 8.300.000</span><span class=\"_2tW1I\" data-aut-id=\"itemTitle\">Iphone x BH 90% New Mulusss 64Gb Tt xs Max xr 8+ 7 Plus 6s 11 pro</span><div class=\"_1KOFM\"><span class=\"tjgMj\" data-aut-id=\"item-location\">Rawalumbu, Bekasi Kota</span><span class=\"zLvFQ\"><span>Hari ini</span></span></div></div></a><span class=\"_2LYp_\"><button class=\"rui-3mpO_\" data-aut-id=\"\" role=\"button\" tabindex=\"0\" title=\"Favourite\" type=\"button\"><svg class=\"\" data-aut-id=\"icon\" fill-rule=\"evenodd\" height=\"24px\" viewbox=\"0 0 1024 1024\" width=\"24px\"><path class=\"rui-77aaa\" d=\"M830.798 448.659l-318.798 389.915-317.828-388.693c-20.461-27.171-31.263-59.345-31.263-93.033 0-85.566 69.605-155.152 155.152-155.152 72.126 0 132.752 49.552 150.051 116.364h87.777c17.299-66.812 77.905-116.364 150.051-116.364 85.547 0 155.152 69.585 155.152 155.152 0 33.687-10.802 65.862-30.293 91.811zM705.939 124.121c-80.853 0-152.204 41.425-193.939 104.204-41.736-62.778-113.086-104.204-193.939-104.204-128.33 0-232.727 104.378-232.727 232.727 0 50.657 16.194 98.948 47.806 140.897l328.766 402.133h100.189l329.716-403.355c30.662-40.727 46.856-89.018 46.856-139.675 0-128.349-104.398-232.727-232.727-232.727z\"></path></svg></button></span></li>, <li class=\"EIR5N\" data-aut-id=\"itemBox\"><a href=\"/item/iphone-xr-64-dual-sim-iid-804023740\"><figure class=\"_2grx4\" data-aut-id=\"itemImage\"><div class=\"_1czk1\"><div class=\"_1VzGN _1VX6L\"></div></div><noscript><img alt=\"Iphone XR 64 DUAL SIM\" class=\"_3Kg_w\" sizes=\"(min-width: 1280px) 15vw, (min-width: 1024px) 20vw, (min-width: 960px) 25vw, (min-width: 540px) 25vw, (min-width: 320px) 30vw, 35vw\" src=\"https://apollo-singapore.akamaized.net:443/v1/files/w4ly78rwsdpd1-ID/image;s=272x0\" srcset=\"https://apollo-singapore.akamaized.net:443/v1/files/w4ly78rwsdpd1-ID/image;s=100x200;q=60 100w,\n",
      "                    https://apollo-singapore.akamaized.net:443/v1/files/w4ly78rwsdpd1-ID/image;s=200x400;q=60 200w,\n",
      "                    https://apollo-singapore.akamaized.net:443/v1/files/w4ly78rwsdpd1-ID/image;s=300x600;q=60 300w,\n",
      "                    https://apollo-singapore.akamaized.net:443/v1/files/w4ly78rwsdpd1-ID/image;s=400x800;q=60 400w,\n",
      "                    https://apollo-singapore.akamaized.net:443/v1/files/w4ly78rwsdpd1-ID/image;s=600x1200;q=60 600w\"/></noscript></figure><div class=\"IKo3_\"><span class=\"_89yzn\" data-aut-id=\"itemPrice\">Rp 8.000.000</span><span class=\"_2tW1I\" data-aut-id=\"itemTitle\">Iphone XR 64 DUAL SIM</span><div class=\"_1KOFM\"><span class=\"tjgMj\" data-aut-id=\"item-location\">Serengan, Surakarta Kota</span><span class=\"zLvFQ\"><span>Hari ini</span></span></div></div></a><span class=\"_2LYp_\"><button class=\"rui-3mpO_\" data-aut-id=\"\" role=\"button\" tabindex=\"0\" title=\"Favourite\" type=\"button\"><svg class=\"\" data-aut-id=\"icon\" fill-rule=\"evenodd\" height=\"24px\" viewbox=\"0 0 1024 1024\" width=\"24px\"><path class=\"rui-77aaa\" d=\"M830.798 448.659l-318.798 389.915-317.828-388.693c-20.461-27.171-31.263-59.345-31.263-93.033 0-85.566 69.605-155.152 155.152-155.152 72.126 0 132.752 49.552 150.051 116.364h87.777c17.299-66.812 77.905-116.364 150.051-116.364 85.547 0 155.152 69.585 155.152 155.152 0 33.687-10.802 65.862-30.293 91.811zM705.939 124.121c-80.853 0-152.204 41.425-193.939 104.204-41.736-62.778-113.086-104.204-193.939-104.204-128.33 0-232.727 104.378-232.727 232.727 0 50.657 16.194 98.948 47.806 140.897l328.766 402.133h100.189l329.716-403.355c30.662-40.727 46.856-89.018 46.856-139.675 0-128.349-104.398-232.727-232.727-232.727z\"></path></svg></button></span></li>, <li class=\"EIR5N\" data-aut-id=\"itemBox\"><a href=\"/item/for-sale-guys-iphone-7-256gb-inter-zpa-mantap-kuy-di-mahar-aja-iid-804023681\"><figure class=\"_2grx4\" data-aut-id=\"itemImage\"><div class=\"_1czk1\"><div class=\"_1VzGN _1VX6L\"></div></div><noscript><img alt=\"For Sale Guys iPhone 7+ 256GB iNter ZP/A Mantap Kuy Di Mahar Aja\" class=\"_3Kg_w\" sizes=\"(min-width: 1280px) 15vw, (min-width: 1024px) 20vw, (min-width: 960px) 25vw, (min-width: 540px) 25vw, (min-width: 320px) 30vw, 35vw\" src=\"https://apollo-singapore.akamaized.net:443/v1/files/5qsp4jy98byh-ID/image;s=272x0\" srcset=\"https://apollo-singapore.akamaized.net:443/v1/files/5qsp4jy98byh-ID/image;s=100x200;q=60 100w,\n",
      "                    https://apollo-singapore.akamaized.net:443/v1/files/5qsp4jy98byh-ID/image;s=200x400;q=60 200w,\n",
      "                    https://apollo-singapore.akamaized.net:443/v1/files/5qsp4jy98byh-ID/image;s=300x600;q=60 300w,\n",
      "                    https://apollo-singapore.akamaized.net:443/v1/files/5qsp4jy98byh-ID/image;s=400x800;q=60 400w,\n",
      "                    https://apollo-singapore.akamaized.net:443/v1/files/5qsp4jy98byh-ID/image;s=600x1200;q=60 600w\"/></noscript></figure><div class=\"IKo3_\"><span class=\"_89yzn\" data-aut-id=\"itemPrice\">Rp 4.450.000</span><span class=\"_2tW1I\" data-aut-id=\"itemTitle\">For Sale Guys iPhone 7+ 256GB iNter ZP/A Mantap Kuy Di Mahar Aja</span><div class=\"_1KOFM\"><span class=\"tjgMj\" data-aut-id=\"item-location\">Ciomas, Bogor Kab.</span><span class=\"zLvFQ\"><span>Hari ini</span></span></div></div></a><span class=\"_2LYp_\"><button class=\"rui-3mpO_\" data-aut-id=\"\" role=\"button\" tabindex=\"0\" title=\"Favourite\" type=\"button\"><svg class=\"\" data-aut-id=\"icon\" fill-rule=\"evenodd\" height=\"24px\" viewbox=\"0 0 1024 1024\" width=\"24px\"><path class=\"rui-77aaa\" d=\"M830.798 448.659l-318.798 389.915-317.828-388.693c-20.461-27.171-31.263-59.345-31.263-93.033 0-85.566 69.605-155.152 155.152-155.152 72.126 0 132.752 49.552 150.051 116.364h87.777c17.299-66.812 77.905-116.364 150.051-116.364 85.547 0 155.152 69.585 155.152 155.152 0 33.687-10.802 65.862-30.293 91.811zM705.939 124.121c-80.853 0-152.204 41.425-193.939 104.204-41.736-62.778-113.086-104.204-193.939-104.204-128.33 0-232.727 104.378-232.727 232.727 0 50.657 16.194 98.948 47.806 140.897l328.766 402.133h100.189l329.716-403.355c30.662-40.727 46.856-89.018 46.856-139.675 0-128.349-104.398-232.727-232.727-232.727z\"></path></svg></button></span></li>]\n"
     ]
    }
   ],
   "source": [
    "produk = soup.find_all(\"li\", \"EIR5N\")\n",
    "i = 1\n",
    "print (produk)"
   ]
  },
  {
   "cell_type": "markdown",
   "metadata": {},
   "source": [
    "## Mengambil data yang akan diambil"
   ]
  },
  {
   "cell_type": "code",
   "execution_count": 4,
   "metadata": {},
   "outputs": [
    {
     "name": "stdout",
     "output_type": "stream",
     "text": [
      "Beli iphone 11 pro max xs samsung galaxy note 20 s20 plus ultra fold 2\n",
      "17000000\n",
      "iPhone 6s 128gb\n",
      "2150000\n",
      "Iphone SE Mode potret 64 gb\n",
      "7999000\n",
      "Apple iPhone 11 256GB\n",
      "15499000\n",
      "iPhone 6s 128gb\n",
      "2200000\n",
      "IPhone 6S Plus 16 Gb Minus finger ma kesing gk mlus yg laen mntp bs tt\n",
      "2299999\n",
      "Iphone 7 jet black 128gb garansi\n",
      "3500000\n",
      "Iphone 8 plus 256 gb hp dan cas ex inter\n",
      "6750000\n",
      "IPHONE 5S MURMER\n",
      "920000\n",
      "softcase aero / mychoice / bumper mika u Iphone XR\n",
      "30000\n",
      "Iphone 6s 64 gb\n",
      "2350000\n",
      "Apple Iphone 6s Plus 16gb Grey bisa Tt\n",
      "2875000\n",
      "IPHONE 7+  256 gb\n",
      "4100000\n",
      "Jual iphone 7+32 warna jetblack new inter, imei  aman\n",
      "6500000\n",
      "Jasa bypass iPhone lock iCloud\n",
      "100000\n",
      "for sale iphone 5s 32gb grey mulus fullsett\n",
      "1200000\n",
      "Iphone 7+ 128G RedEdition\n",
      "4500000\n",
      "Iphone x BH 90% New Mulusss 64Gb Tt xs Max xr 8+ 7 Plus 6s 11 pro\n",
      "8300000\n",
      "Iphone XR 64 DUAL SIM\n",
      "8000000\n",
      "For Sale Guys iPhone 7+ 256GB iNter ZP/A Mantap Kuy Di Mahar Aja\n",
      "4450000\n"
     ]
    }
   ],
   "source": [
    "for p in produk:\n",
    "    print (p.find('span', '_2tW1I').get_text())\n",
    "    print (p.find('span', '_89yzn').get_text().replace('Rp ','').replace('.','').replace(' ',''))"
   ]
  },
  {
   "cell_type": "markdown",
   "metadata": {},
   "source": [
    "## Memasukan data ke Panda Dataframe"
   ]
  },
  {
   "cell_type": "code",
   "execution_count": 5,
   "metadata": {},
   "outputs": [
    {
     "data": {
      "text/html": [
       "<div>\n",
       "<style scoped>\n",
       "    .dataframe tbody tr th:only-of-type {\n",
       "        vertical-align: middle;\n",
       "    }\n",
       "\n",
       "    .dataframe tbody tr th {\n",
       "        vertical-align: top;\n",
       "    }\n",
       "\n",
       "    .dataframe thead th {\n",
       "        text-align: right;\n",
       "    }\n",
       "</style>\n",
       "<table border=\"1\" class=\"dataframe\">\n",
       "  <thead>\n",
       "    <tr style=\"text-align: right;\">\n",
       "      <th></th>\n",
       "      <th>nama_barang</th>\n",
       "      <th>harga</th>\n",
       "    </tr>\n",
       "  </thead>\n",
       "  <tbody>\n",
       "    <tr>\n",
       "      <th>9</th>\n",
       "      <td>softcase aero / mychoice / bumper mika u Iphon...</td>\n",
       "      <td>30000</td>\n",
       "    </tr>\n",
       "    <tr>\n",
       "      <th>14</th>\n",
       "      <td>Jasa bypass iPhone lock iCloud</td>\n",
       "      <td>100000</td>\n",
       "    </tr>\n",
       "    <tr>\n",
       "      <th>8</th>\n",
       "      <td>IPHONE 5S MURMER</td>\n",
       "      <td>920000</td>\n",
       "    </tr>\n",
       "    <tr>\n",
       "      <th>15</th>\n",
       "      <td>for sale iphone 5s 32gb grey mulus fullsett</td>\n",
       "      <td>1200000</td>\n",
       "    </tr>\n",
       "    <tr>\n",
       "      <th>1</th>\n",
       "      <td>iPhone 6s 128gb</td>\n",
       "      <td>2150000</td>\n",
       "    </tr>\n",
       "    <tr>\n",
       "      <th>4</th>\n",
       "      <td>iPhone 6s 128gb</td>\n",
       "      <td>2200000</td>\n",
       "    </tr>\n",
       "    <tr>\n",
       "      <th>5</th>\n",
       "      <td>IPhone 6S Plus 16 Gb Minus finger ma kesing gk...</td>\n",
       "      <td>2299999</td>\n",
       "    </tr>\n",
       "    <tr>\n",
       "      <th>10</th>\n",
       "      <td>Iphone 6s 64 gb</td>\n",
       "      <td>2350000</td>\n",
       "    </tr>\n",
       "    <tr>\n",
       "      <th>11</th>\n",
       "      <td>Apple Iphone 6s Plus 16gb Grey bisa Tt</td>\n",
       "      <td>2875000</td>\n",
       "    </tr>\n",
       "    <tr>\n",
       "      <th>6</th>\n",
       "      <td>Iphone 7 jet black 128gb garansi</td>\n",
       "      <td>3500000</td>\n",
       "    </tr>\n",
       "    <tr>\n",
       "      <th>12</th>\n",
       "      <td>IPHONE 7+  256 gb</td>\n",
       "      <td>4100000</td>\n",
       "    </tr>\n",
       "    <tr>\n",
       "      <th>19</th>\n",
       "      <td>For Sale Guys iPhone 7+ 256GB iNter ZP/A Manta...</td>\n",
       "      <td>4450000</td>\n",
       "    </tr>\n",
       "    <tr>\n",
       "      <th>16</th>\n",
       "      <td>Iphone 7+ 128G RedEdition</td>\n",
       "      <td>4500000</td>\n",
       "    </tr>\n",
       "    <tr>\n",
       "      <th>13</th>\n",
       "      <td>Jual iphone 7+32 warna jetblack new inter, ime...</td>\n",
       "      <td>6500000</td>\n",
       "    </tr>\n",
       "    <tr>\n",
       "      <th>7</th>\n",
       "      <td>Iphone 8 plus 256 gb hp dan cas ex inter</td>\n",
       "      <td>6750000</td>\n",
       "    </tr>\n",
       "    <tr>\n",
       "      <th>2</th>\n",
       "      <td>Iphone SE Mode potret 64 gb</td>\n",
       "      <td>7999000</td>\n",
       "    </tr>\n",
       "    <tr>\n",
       "      <th>18</th>\n",
       "      <td>Iphone XR 64 DUAL SIM</td>\n",
       "      <td>8000000</td>\n",
       "    </tr>\n",
       "    <tr>\n",
       "      <th>17</th>\n",
       "      <td>Iphone x BH 90% New Mulusss 64Gb Tt xs Max xr ...</td>\n",
       "      <td>8300000</td>\n",
       "    </tr>\n",
       "    <tr>\n",
       "      <th>3</th>\n",
       "      <td>Apple iPhone 11 256GB</td>\n",
       "      <td>15499000</td>\n",
       "    </tr>\n",
       "    <tr>\n",
       "      <th>0</th>\n",
       "      <td>Beli iphone 11 pro max xs samsung galaxy note ...</td>\n",
       "      <td>17000000</td>\n",
       "    </tr>\n",
       "  </tbody>\n",
       "</table>\n",
       "</div>"
      ],
      "text/plain": [
       "                                          nama_barang     harga\n",
       "9   softcase aero / mychoice / bumper mika u Iphon...     30000\n",
       "14                     Jasa bypass iPhone lock iCloud    100000\n",
       "8                                    IPHONE 5S MURMER    920000\n",
       "15        for sale iphone 5s 32gb grey mulus fullsett   1200000\n",
       "1                                     iPhone 6s 128gb   2150000\n",
       "4                                     iPhone 6s 128gb   2200000\n",
       "5   IPhone 6S Plus 16 Gb Minus finger ma kesing gk...   2299999\n",
       "10                                    Iphone 6s 64 gb   2350000\n",
       "11             Apple Iphone 6s Plus 16gb Grey bisa Tt   2875000\n",
       "6                    Iphone 7 jet black 128gb garansi   3500000\n",
       "12                                  IPHONE 7+  256 gb   4100000\n",
       "19  For Sale Guys iPhone 7+ 256GB iNter ZP/A Manta...   4450000\n",
       "16                          Iphone 7+ 128G RedEdition   4500000\n",
       "13  Jual iphone 7+32 warna jetblack new inter, ime...   6500000\n",
       "7            Iphone 8 plus 256 gb hp dan cas ex inter   6750000\n",
       "2                         Iphone SE Mode potret 64 gb   7999000\n",
       "18                              Iphone XR 64 DUAL SIM   8000000\n",
       "17  Iphone x BH 90% New Mulusss 64Gb Tt xs Max xr ...   8300000\n",
       "3                               Apple iPhone 11 256GB  15499000\n",
       "0   Beli iphone 11 pro max xs samsung galaxy note ...  17000000"
      ]
     },
     "execution_count": 5,
     "metadata": {},
     "output_type": "execute_result"
    }
   ],
   "source": [
    "import pandas as pd\n",
    "\n",
    "nama_produk = []\n",
    "harga_produk = []\n",
    "\n",
    "produk = soup.find_all(\"li\", \"EIR5N\")\n",
    "\n",
    "for p in produk:\n",
    "    nama = p.find('span', '_2tW1I').get_text()\n",
    "    harga = p.find('span', '_89yzn').get_text()\n",
    "    nama_produk.append(nama)\n",
    "    harga_produk.append(int(harga.replace('Rp ','').replace('.','').replace(' ','')))\n",
    "    \n",
    "produk_dict = {'nama_barang':nama_produk, 'harga':harga_produk}\n",
    "df = pd.DataFrame(produk_dict, columns = ['nama_barang', 'harga'])\n",
    "\n",
    "df.sort_values('harga',ascending=True)"
   ]
  },
  {
   "cell_type": "markdown",
   "metadata": {},
   "source": [
    "## Export ke CSV"
   ]
  },
  {
   "cell_type": "code",
   "execution_count": 6,
   "metadata": {},
   "outputs": [],
   "source": [
    "df.to_csv(\"olx_\"+keyword+\".csv\", sep=',')"
   ]
  }
 ],
 "metadata": {
  "kernelspec": {
   "display_name": "Python 3",
   "language": "python",
   "name": "python3"
  },
  "language_info": {
   "codemirror_mode": {
    "name": "ipython",
    "version": 3
   },
   "file_extension": ".py",
   "mimetype": "text/x-python",
   "name": "python",
   "nbconvert_exporter": "python",
   "pygments_lexer": "ipython3",
   "version": "3.7.3"
  }
 },
 "nbformat": 4,
 "nbformat_minor": 2
}
